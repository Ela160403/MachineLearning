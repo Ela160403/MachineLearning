{
 "cells": [
  {
   "cell_type": "code",
   "execution_count": 3,
   "id": "9656ac02-8b27-416b-a3f6-9e1b50fda64c",
   "metadata": {},
   "outputs": [
    {
     "name": "stdout",
     "output_type": "stream",
     "text": [
      "   id        first       last  gender  Marks  selected\n",
      "0   1        Leone     Debrci  Female     50      True\n",
      "1   2       Romola  Phinnessy  Female     60     False\n",
      "2   3         Geri      Prium    Male     65     False\n",
      "3   4        Sandy   Doveston  Female     95     False\n",
      "4   5      Jacenta     Janisk  Female     31      True\n",
      "5   6  Diane-marie   Medhurst  Female     45      True\n",
      "6   7       Austen       Pool    Male     45      True\n",
      "7   8        Vanya    Teffrey    Male     70     False\n",
      "8   9     Giordano      Elloy    Male     36     False\n",
      "9  10       Rozele    Fawcett  Female     50     False\n"
     ]
    }
   ],
   "source": [
    "import pandas as pd\n",
    "\n",
    "df=pd.read_csv('datas.csv')\n",
    "print(df)"
   ]
  },
  {
   "cell_type": "code",
   "execution_count": 8,
   "id": "557b8f70-191c-4b73-a15e-f729ae655820",
   "metadata": {},
   "outputs": [],
   "source": [
    "from sklearn.preprocessing import LabelEncoder"
   ]
  },
  {
   "cell_type": "code",
   "execution_count": 10,
   "id": "ca8da83a-f6a2-4e81-9f86-52d41ea2eaad",
   "metadata": {},
   "outputs": [
    {
     "name": "stdout",
     "output_type": "stream",
     "text": [
      "   id        first       last  gender  Marks  selected\n",
      "0   1        Leone     Debrci       0     50      True\n",
      "1   2       Romola  Phinnessy       0     60     False\n",
      "2   3         Geri      Prium       1     65     False\n",
      "3   4        Sandy   Doveston       0     95     False\n",
      "4   5      Jacenta     Janisk       0     31      True\n",
      "5   6  Diane-marie   Medhurst       0     45      True\n",
      "6   7       Austen       Pool       1     45      True\n",
      "7   8        Vanya    Teffrey       1     70     False\n",
      "8   9     Giordano      Elloy       1     36     False\n",
      "9  10       Rozele    Fawcett       0     50     False\n"
     ]
    }
   ],
   "source": [
    "df_gender_encode=LabelEncoder()\n",
    "df.gender=df_gender_encode.fit_transform(df.gender)\n",
    "print(df)"
   ]
  },
  {
   "cell_type": "code",
   "execution_count": 11,
   "id": "c2f7b19c-dfa6-408b-8ae7-69eb52c48d6c",
   "metadata": {},
   "outputs": [],
   "source": [
    "from sklearn import preprocessing"
   ]
  },
  {
   "cell_type": "code",
   "execution_count": 13,
   "id": "34d831f2-5d9f-40f8-a233-fe4c0048430c",
   "metadata": {},
   "outputs": [
    {
     "name": "stdout",
     "output_type": "stream",
     "text": [
      "   id        first       last  gender     Marks  selected\n",
      "0   1        Leone     Debrci       0 -0.265401      True\n",
      "1   2       Romola  Phinnessy       0  0.299282     False\n",
      "2   3         Geri      Prium       1  0.581624     False\n",
      "3   4        Sandy   Doveston       0  2.275674     False\n",
      "4   5      Jacenta     Janisk       0 -1.338300      True\n",
      "5   6  Diane-marie   Medhurst       0 -0.547743      True\n",
      "6   7       Austen       Pool       1 -0.547743      True\n",
      "7   8        Vanya    Teffrey       1  0.863966     False\n",
      "8   9     Giordano      Elloy       1 -1.055958     False\n",
      "9  10       Rozele    Fawcett       0 -0.265401     False\n",
      "Scaling of marks is completed\n",
      "\n",
      "\n",
      "\n",
      "\n"
     ]
    }
   ],
   "source": [
    "df.Marks=preprocessing.scale(df.Marks)\n",
    "scaled_df=preprocessing.scale(df.Marks)\n",
    "print(df)\n",
    "print(\"Scaling of marks is completed\\n\\n\\n\\n\")"
   ]
  },
  {
   "cell_type": "code",
   "execution_count": 15,
   "id": "74d415e1-274c-4dfd-a332-10257df38069",
   "metadata": {},
   "outputs": [
    {
     "name": "stdout",
     "output_type": "stream",
     "text": [
      "   id        first       last  gender  Marks  selected\n",
      "0   1        Leone     Debrci       0    0.0      True\n",
      "1   2       Romola  Phinnessy       0    0.0     False\n",
      "2   3         Geri      Prium       1    1.0     False\n",
      "3   4        Sandy   Doveston       0    1.0     False\n",
      "4   5      Jacenta     Janisk       0    0.0      True\n",
      "5   6  Diane-marie   Medhurst       0    0.0      True\n",
      "6   7       Austen       Pool       1    0.0      True\n",
      "7   8        Vanya    Teffrey       1    1.0     False\n",
      "8   9     Giordano      Elloy       1    0.0     False\n",
      "9  10       Rozele    Fawcett       0    0.0     False\n",
      "Binarizarion of marks is completed\n",
      "\n",
      "\n",
      "\n"
     ]
    }
   ],
   "source": [
    "newarr=scaled_df.reshape(-1,1)\n",
    "scaled_df_bin=preprocessing.Binarizer(threshold=0.5).transform(newarr)\n",
    "df['Marks']=scaled_df_bin\n",
    "print(df)\n",
    "print(\"Binarizarion of marks is completed\\n\\n\\n\")"
   ]
  },
  {
   "cell_type": "code",
   "execution_count": 16,
   "id": "10940d09-560f-4c40-9db1-efb63a2b2a22",
   "metadata": {},
   "outputs": [
    {
     "name": "stdout",
     "output_type": "stream",
     "text": [
      "\n",
      "\n",
      "\n",
      " listing 2 \n",
      "\n",
      "\n"
     ]
    }
   ],
   "source": [
    "print(\"\\n\\n\\n listing 2 \\n\\n\")"
   ]
  },
  {
   "cell_type": "code",
   "execution_count": 20,
   "id": "147c7aae-fe54-4a6a-9ce7-cf236f409dfe",
   "metadata": {},
   "outputs": [
    {
     "name": "stdout",
     "output_type": "stream",
     "text": [
      "    id        first       last  gender  Marks  selected\n",
      "0    1        Leone     Debrci       0    0.0      True\n",
      "1    2       Romola  Phinnessy       0    0.0     False\n",
      "2    3         Geri      Prium       1    1.0     False\n",
      "3    4        Sandy   Doveston       0    1.0     False\n",
      "4    5      Jacenta     Janisk       0    0.0      True\n",
      "5    6  Diane-marie   Medhurst       0    0.0      True\n",
      "6    7       Austen       Pool       1    0.0      True\n",
      "7    8        Vanya    Teffrey       1    1.0     False\n",
      "8    9     Giordano      Elloy       1    0.0     False\n",
      "9   10       Rozele    Fawcett       0    0.0     False\n",
      "10   1        Leone     Debrci       0    0.0      True\n",
      "11   2       Romola  Phinnessy       0    0.0     False\n",
      "12   3         Geri      Prium       1    1.0     False\n",
      "13   4        Sandy   Doveston       0    1.0     False\n",
      "14   5      Jacenta     Janisk       0    0.0      True\n",
      "15   6  Diane-marie   Medhurst       0    0.0      True\n",
      "16   7       Austen       Pool       1    0.0      True\n",
      "17   8        Vanya    Teffrey       1    1.0     False\n",
      "18   9     Giordano      Elloy       1    0.0     False\n",
      "19  10       Rozele    Fawcett       0    0.0     False\n"
     ]
    }
   ],
   "source": [
    "df_duplicated = pd.concat([df]*2, ignore_index=True)\n",
    "print(df_duplicated)"
   ]
  },
  {
   "cell_type": "code",
   "execution_count": 24,
   "id": "270be728-b60a-450f-92a8-e0e73731ef1b",
   "metadata": {},
   "outputs": [
    {
     "name": "stdout",
     "output_type": "stream",
     "text": [
      "After duplicates removed\n",
      "   id        first       last  gender  Marks  selected\n",
      "0   1        Leone     Debrci       0    0.0      True\n",
      "1   2       Romola  Phinnessy       0    0.0     False\n",
      "2   3         Geri      Prium       1    1.0     False\n",
      "3   4        Sandy   Doveston       0    1.0     False\n",
      "4   5      Jacenta     Janisk       0    0.0      True\n",
      "5   6  Diane-marie   Medhurst       0    0.0      True\n",
      "6   7       Austen       Pool       1    0.0      True\n",
      "7   8        Vanya    Teffrey       1    1.0     False\n",
      "8   9     Giordano      Elloy       1    0.0     False\n",
      "9  10       Rozele    Fawcett       0    0.0     False\n"
     ]
    }
   ],
   "source": [
    "df_duplicates_removed=pd.DataFrame.drop_duplicates(df_duplicated)\n",
    "print('After duplicates removed')\n",
    "print(df_duplicates_removed)"
   ]
  },
  {
   "cell_type": "code",
   "execution_count": 30,
   "id": "7a7d4491-6655-4b7a-87a2-c702a368d903",
   "metadata": {},
   "outputs": [
    {
     "name": "stdout",
     "output_type": "stream",
     "text": [
      "\n",
      "\n",
      "Listing 3 \n",
      "\n",
      "\n"
     ]
    }
   ],
   "source": [
    "print('\\n\\nListing 3 \\n\\n')\n"
   ]
  },
  {
   "cell_type": "code",
   "execution_count": 31,
   "id": "1383af9e-e28d-4cae-8bd8-9f0edf4d7cbc",
   "metadata": {},
   "outputs": [
    {
     "name": "stdout",
     "output_type": "stream",
     "text": [
      "     m1    m2    m3    m4    m5\n",
      "0  50.0  60.0  50.0  60.0   NaN\n",
      "1   NaN   NaN  70.0   NaN   NaN\n",
      "2  60.0  60.0   NaN   NaN   NaN\n",
      "3   NaN   NaN   NaN   NaN  10.0\n",
      "4  80.0  80.0  60.0  60.0  20.0\n"
     ]
    }
   ],
   "source": [
    "df=pd.DataFrame({   \n",
    "    'm1':[50,'A',60,'A',80],\n",
    "    'm2':[60,'A','60','A',80],\n",
    "       'm3':[50,70,'A','A',60],\n",
    "        'm4':[60,'A','A','A',60],\n",
    "      'm5':['A','A','A',10,20]\n",
    "})\n",
    "df=df.apply(pd.to_numeric,errors='coerce')\n",
    "print(df)"
   ]
  },
  {
   "cell_type": "code",
   "execution_count": 32,
   "id": "0da0d620-08c6-4702-8cf7-5234465d9d3e",
   "metadata": {},
   "outputs": [
    {
     "name": "stdout",
     "output_type": "stream",
     "text": [
      "Dataframe with Nan \n",
      "\n",
      "\n",
      "\n",
      "     m1    m2    m3    m4    m5\n",
      "0  50.0  60.0  50.0  60.0   0.0\n",
      "1   NaN   NaN  70.0   NaN   0.0\n",
      "2  60.0  60.0   NaN   NaN   0.0\n",
      "3   NaN   NaN   NaN   NaN  10.0\n",
      "4  80.0  80.0  60.0  60.0  20.0\n",
      "Making m5 NaN as 0 using fillna() function\n",
      "\n",
      "\n",
      "\n",
      "\n"
     ]
    }
   ],
   "source": [
    "print('Dataframe with Nan \\n\\n\\n')\n",
    "df['m5']=df['m5'].fillna(0)\n",
    "print(df)\n",
    "print('Making m5 NaN as 0 using fillna() function\\n\\n\\n\\n')"
   ]
  },
  {
   "cell_type": "code",
   "execution_count": 33,
   "id": "6b5665f7-540b-4840-be63-311975439665",
   "metadata": {},
   "outputs": [
    {
     "name": "stdout",
     "output_type": "stream",
     "text": [
      "     m1         m2    m3    m4    m5\n",
      "0  50.0  60.000000  50.0  60.0   0.0\n",
      "1   NaN  66.666667  70.0   NaN   0.0\n",
      "2  60.0  60.000000   NaN   NaN   0.0\n",
      "3   NaN  66.666667   NaN   NaN  10.0\n",
      "4  80.0  80.000000  60.0  60.0  20.0\n",
      "Making m5 as NaN mean using fillna() function \n",
      "\n",
      "\n",
      "\n",
      "\n"
     ]
    }
   ],
   "source": [
    "df1=df.copy()\n",
    "df1['m2'].fillna(df1['m2'].mean(),inplace=True)\n",
    "print(df1)\n",
    "print('Making m5 as NaN mean using fillna() function \\n\\n\\n\\n')\n"
   ]
  },
  {
   "cell_type": "code",
   "execution_count": 34,
   "id": "577b136c-ea4e-45f3-b92c-a4132107b2db",
   "metadata": {},
   "outputs": [
    {
     "name": "stdout",
     "output_type": "stream",
     "text": [
      "     m1    m2    m3    m4    m5\n",
      "0  50.0  60.0  50.0  60.0   0.0\n",
      "1   NaN   NaN  70.0   NaN   0.0\n",
      "2  60.0  60.0   NaN   NaN   0.0\n",
      "3   NaN   NaN   NaN   NaN  10.0\n",
      "4  80.0  80.0  60.0  60.0  20.0\n"
     ]
    }
   ],
   "source": [
    "df2 =df.copy()\n",
    "df1['m3'].fillna(df1['m2'].median(),inplace=True)\n",
    "print(df2)\n",
    "print('Making m5 as NaN as median using fillna() FUNCTION')"
   ]
  },
  {
   "cell_type": "code",
   "execution_count": null,
   "id": "09c48e9b-df87-4679-ad7c-35fb257201ae",
   "metadata": {},
   "outputs": [],
   "source": []
  }
 ],
 "metadata": {
  "kernelspec": {
   "display_name": "Python 3 (ipykernel)",
   "language": "python",
   "name": "python3"
  },
  "language_info": {
   "codemirror_mode": {
    "name": "ipython",
    "version": 3
   },
   "file_extension": ".py",
   "mimetype": "text/x-python",
   "name": "python",
   "nbconvert_exporter": "python",
   "pygments_lexer": "ipython3",
   "version": "3.10.12"
  }
 },
 "nbformat": 4,
 "nbformat_minor": 5
}
