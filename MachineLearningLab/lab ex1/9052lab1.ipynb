{
 "cells": [
  {
   "cell_type": "code",
   "execution_count": 6,
   "id": "dc51580b-3bea-43ad-8cf7-abf0f8845c70",
   "metadata": {},
   "outputs": [
    {
     "name": "stdout",
     "output_type": "stream",
     "text": [
      "   id        first       last  gender  Marks  selected\n",
      "0   1        Leone     Debrci  Female     50      True\n",
      "1   2       Romola  Phinnessy  Female     60     False\n",
      "2   3         Geri      Prium    Male     65     False\n",
      "3   4        Sandy   Doveston  Female     95     False\n",
      "4   5      Jacenta     Janisk  Female     31      True\n",
      "5   6  Diane-marie   Medhurst  Female     45      True\n",
      "6   7       Austen       Pool    Male     45      True\n",
      "7   8        Vanya    Teffrey    Male     70     False\n",
      "8   9     Giordano      Elloy    Male     36     False\n",
      "9  10       Rozele    Fawcett  Female     50     False\n"
     ]
    }
   ],
   "source": [
    "import pandas as pd\n",
    "col_list=[\"id\",\"first\",\"last\",\"gender\",\"Marks\",\"selected\"]\n",
    "df=pd.read_csv('datas.csv',usecols=col_list)#incase of no columns col_list wil be created\n",
    "print(df)"
   ]
  },
  {
   "cell_type": "code",
   "execution_count": 34,
   "id": "97247d8c-37ae-4adf-8990-d4b25fd25ab6",
   "metadata": {},
   "outputs": [
    {
     "name": "stdout",
     "output_type": "stream",
     "text": [
      "Mean Marks:54.7\n"
     ]
    }
   ],
   "source": [
    "mean1 = df['Marks'].mean()\n",
    "print('Mean Marks:'+str(mean1))"
   ]
  },
  {
   "cell_type": "code",
   "execution_count": 33,
   "id": "ab9cb9ab-69f3-4d0e-a951-87c2db4a2fb3",
   "metadata": {},
   "outputs": [
    {
     "name": "stdout",
     "output_type": "stream",
     "text": [
      "Sum of the Marks:547\n"
     ]
    }
   ],
   "source": [
    "sum1=df['Marks'].sum()\n",
    "print('Sum of the Marks:'+str(sum1))"
   ]
  },
  {
   "cell_type": "code",
   "execution_count": 35,
   "id": "69347e71-9d74-4599-8ac8-d6e95f42bd94",
   "metadata": {},
   "outputs": [
    {
     "name": "stdout",
     "output_type": "stream",
     "text": [
      "Maximum of the marks:95\n",
      "Minimum of the marks:31\n"
     ]
    }
   ],
   "source": [
    "max1=df['Marks'].max()\n",
    "min1=df['Marks'].min()\n",
    "print('Maximum of the marks:'+str(max1))\n",
    "print('Minimum of the marks:'+str(min1))\n"
   ]
  },
  {
   "cell_type": "code",
   "execution_count": 36,
   "id": "77a40cdc-3ea6-4507-8eb2-83276a7704df",
   "metadata": {},
   "outputs": [
    {
     "name": "stdout",
     "output_type": "stream",
     "text": [
      "count of the marks:10\n"
     ]
    }
   ],
   "source": [
    "count1=df['Marks'].count()\n",
    "print('count of the marks:'+str(count1))"
   ]
  },
  {
   "cell_type": "code",
   "execution_count": 24,
   "id": "b12ab27b-caff-481c-8cf2-d938d27dd67b",
   "metadata": {},
   "outputs": [
    {
     "name": "stdout",
     "output_type": "stream",
     "text": [
      "50.0\n"
     ]
    }
   ],
   "source": [
    "median1=df['Marks'].median()\n",
    "print(median1)"
   ]
  },
  {
   "cell_type": "code",
   "execution_count": 29,
   "id": "1e37516e-f142-4a52-8278-bfc096e738b8",
   "metadata": {},
   "outputs": [
    {
     "name": "stdout",
     "output_type": "stream",
     "text": [
      "18.666964283341724\n",
      "348.4555555555555\n"
     ]
    }
   ],
   "source": [
    "sd1=df['Marks'].std()\n",
    "var1=df['Marks'].var()\n",
    "print(sd1)\n",
    "print(var1)"
   ]
  },
  {
   "cell_type": "code",
   "execution_count": null,
   "id": "736b3d4b-6994-4174-b5c8-165cf613dcb3",
   "metadata": {},
   "outputs": [],
   "source": []
  }
 ],
 "metadata": {
  "kernelspec": {
   "display_name": "Python 3 (ipykernel)",
   "language": "python",
   "name": "python3"
  },
  "language_info": {
   "codemirror_mode": {
    "name": "ipython",
    "version": 3
   },
   "file_extension": ".py",
   "mimetype": "text/x-python",
   "name": "python",
   "nbconvert_exporter": "python",
   "pygments_lexer": "ipython3",
   "version": "3.10.12"
  }
 },
 "nbformat": 4,
 "nbformat_minor": 5
}
