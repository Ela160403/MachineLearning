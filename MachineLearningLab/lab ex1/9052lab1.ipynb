{
 "cells": [
  {
   "cell_type": "code",
   "execution_count": 6,
   "id": "dc51580b-3bea-43ad-8cf7-abf0f8845c70",
   "metadata": {},
   "outputs": [
    {
     "name": "stdout",
     "output_type": "stream",
     "text": [
      "   id        first       last  gender  Marks  selected\n",
      "0   1        Leone     Debrci  Female     50      True\n",
      "1   2       Romola  Phinnessy  Female     60     False\n",
      "2   3         Geri      Prium    Male     65     False\n",
      "3   4        Sandy   Doveston  Female     95     False\n",
      "4   5      Jacenta     Janisk  Female     31      True\n",
      "5   6  Diane-marie   Medhurst  Female     45      True\n",
      "6   7       Austen       Pool    Male     45      True\n",
      "7   8        Vanya    Teffrey    Male     70     False\n",
      "8   9     Giordano      Elloy    Male     36     False\n",
      "9  10       Rozele    Fawcett  Female     50     False\n"
     ]
    }
   ],
   "source": [
    "import pandas as pd\n",
    "col_list=[\"id\",\"first\",\"last\",\"gender\",\"Marks\",\"selected\"]\n",
    "df=pd.read_csv('datas.csv',usecols=col_list)#incase of no columns col_list wil be created\n",
    "print(df)\n"
   ]
  },
  {
   "cell_type": "code",
   "execution_count": 41,
   "id": "97247d8c-37ae-4adf-8990-d4b25fd25ab6",
   "metadata": {},
   "outputs": [
    {
     "name": "stdout",
     "output_type": "stream",
     "text": [
      "\n",
      "\n",
      "\n",
      "Listing1\n",
      "\n",
      "\n",
      "\n",
      "Mean Marks:54.7\n"
     ]
    }
   ],
   "source": [
    "print('\\n\\n\\nListing1\\n\\n\\n')\n",
    "mean1 = df['Marks'].mean()\n",
    "print('Mean Marks:'+str(mean1))"
   ]
  },
  {
   "cell_type": "code",
   "execution_count": 33,
   "id": "ab9cb9ab-69f3-4d0e-a951-87c2db4a2fb3",
   "metadata": {},
   "outputs": [
    {
     "name": "stdout",
     "output_type": "stream",
     "text": [
      "Sum of the Marks:547\n"
     ]
    }
   ],
   "source": [
    "sum1=df['Marks'].sum()\n",
    "print('Sum of the Marks:'+str(sum1))"
   ]
  },
  {
   "cell_type": "code",
   "execution_count": 35,
   "id": "69347e71-9d74-4599-8ac8-d6e95f42bd94",
   "metadata": {},
   "outputs": [
    {
     "name": "stdout",
     "output_type": "stream",
     "text": [
      "Maximum of the marks:95\n",
      "Minimum of the marks:31\n"
     ]
    }
   ],
   "source": [
    "max1=df['Marks'].max()\n",
    "min1=df['Marks'].min()\n",
    "print('Maximum of the marks:'+str(max1))\n",
    "print('Minimum of the marks:'+str(min1))\n"
   ]
  },
  {
   "cell_type": "code",
   "execution_count": 36,
   "id": "77a40cdc-3ea6-4507-8eb2-83276a7704df",
   "metadata": {},
   "outputs": [
    {
     "name": "stdout",
     "output_type": "stream",
     "text": [
      "count of the marks:10\n"
     ]
    }
   ],
   "source": [
    "count1=df['Marks'].count()\n",
    "print('count of the marks:'+str(count1))"
   ]
  },
  {
   "cell_type": "code",
   "execution_count": 37,
   "id": "b12ab27b-caff-481c-8cf2-d938d27dd67b",
   "metadata": {},
   "outputs": [
    {
     "name": "stdout",
     "output_type": "stream",
     "text": [
      "Median of the marks:95\n"
     ]
    }
   ],
   "source": [
    "median1=df['Marks'].median()\n",
    "print('Median of the marks:'+str(max1))"
   ]
  },
  {
   "cell_type": "code",
   "execution_count": 39,
   "id": "1e37516e-f142-4a52-8278-bfc096e738b8",
   "metadata": {},
   "outputs": [
    {
     "name": "stdout",
     "output_type": "stream",
     "text": [
      "Standard deviation of the marks:95\n",
      "Variance of the marks348.4555555555555\n"
     ]
    }
   ],
   "source": [
    "sd1=df['Marks'].std()\n",
    "var1=df['Marks'].var()\n",
    "print('Standard deviation of the marks:'+str(max1))\n",
    "print('Variance of the marks'+str(var1))"
   ]
  },
  {
   "cell_type": "code",
   "execution_count": 40,
   "id": "736b3d4b-6994-4174-b5c8-165cf613dcb3",
   "metadata": {},
   "outputs": [
    {
     "name": "stdout",
     "output_type": "stream",
     "text": [
      "\n",
      "\n",
      "Listing2\n",
      "\n"
     ]
    }
   ],
   "source": [
    "print('\\n\\nListing2\\n')"
   ]
  },
  {
   "cell_type": "code",
   "execution_count": 48,
   "id": "e66d59ad-022d-480b-83df-3891c605ac6e",
   "metadata": {},
   "outputs": [
    {
     "name": "stdout",
     "output_type": "stream",
     "text": [
      "   id        first       last  gender  Marks  selected\n",
      "0   1        Leone     Debrci  Female     50      True\n",
      "1   2       Romola  Phinnessy  Female     60     False\n",
      "2   3         Geri      Prium    Male     65     False\n",
      "3   4        Sandy   Doveston  Female     95     False\n",
      "4   5      Jacenta     Janisk  Female     31      True\n",
      "5   6  Diane-marie   Medhurst  Female     45      True\n",
      "6   7       Austen       Pool    Male     45      True\n",
      "7   8        Vanya    Teffrey    Male     70     False\n",
      "8   9     Giordano      Elloy    Male     36     False\n",
      "9  10       Rozele    Fawcett  Female     50     False\n",
      "\n",
      "(10, 6)\n"
     ]
    }
   ],
   "source": [
    "print(df)\n",
    "print('\\n'+str(df.shape))"
   ]
  },
  {
   "cell_type": "code",
   "execution_count": 49,
   "id": "a8accff6-00f7-43bb-a76c-170d353c50df",
   "metadata": {},
   "outputs": [
    {
     "name": "stdout",
     "output_type": "stream",
     "text": [
      "\n",
      "   id    first       last  gender  Marks  selected\n",
      "0   1    Leone     Debrci  Female     50      True\n",
      "1   2   Romola  Phinnessy  Female     60     False\n",
      "2   3     Geri      Prium    Male     65     False\n",
      "3   4    Sandy   Doveston  Female     95     False\n",
      "4   5  Jacenta     Janisk  Female     31      True\n"
     ]
    }
   ],
   "source": [
    "\n",
    "print('\\n'+str(df.head(5)))"
   ]
  },
  {
   "cell_type": "code",
   "execution_count": 50,
   "id": "ce85820b-4a3d-41ca-bce4-9a51363b5690",
   "metadata": {},
   "outputs": [
    {
     "name": "stdout",
     "output_type": "stream",
     "text": [
      "             id      Marks\n",
      "count  10.00000  10.000000\n",
      "mean    5.50000  54.700000\n",
      "std     3.02765  18.666964\n",
      "min     1.00000  31.000000\n",
      "25%     3.25000  45.000000\n",
      "50%     5.50000  50.000000\n",
      "75%     7.75000  63.750000\n",
      "max    10.00000  95.000000\n"
     ]
    }
   ],
   "source": [
    "print(df.describe())"
   ]
  },
  {
   "cell_type": "code",
   "execution_count": 51,
   "id": "d77734d9-6879-45a5-8197-d72e959c3784",
   "metadata": {},
   "outputs": [
    {
     "name": "stdout",
     "output_type": "stream",
     "text": [
      "\n",
      "\n",
      "Listing3\n",
      "\n",
      "\n"
     ]
    }
   ],
   "source": [
    "print('\\n\\nListing3\\n\\n')"
   ]
  },
  {
   "cell_type": "code",
   "execution_count": 54,
   "id": "a6357a98-d06e-4bed-aba4-f91d6e53812e",
   "metadata": {},
   "outputs": [],
   "source": [
    "from scipy import stats\n",
    "data = [1,2,3,4,5,6,8,8,8,8,9,10,10,10,12,14,18,18,18,22,39,44,55,55,55,55,66,78,79,88]\n"
   ]
  },
  {
   "cell_type": "code",
   "execution_count": 57,
   "id": "04737a19-dc06-49fc-9cb5-5dd85c903963",
   "metadata": {},
   "outputs": [
    {
     "name": "stdout",
     "output_type": "stream",
     "text": [
      "\n",
      " Details of the data\n",
      " DescribeResult(nobs=30, minmax=(1, 88), mean=26.933333333333334, variance=715.3057471264367, skewness=0.9591014772240082, kurtosis=-0.5039593211083249)\n"
     ]
    }
   ],
   "source": [
    "print(\"\\n Details of the data\\n\", stats.describe(data))"
   ]
  },
  {
   "cell_type": "code",
   "execution_count": 60,
   "id": "97235649-d71e-4f09-b0c7-03462a89b04a",
   "metadata": {},
   "outputs": [
    {
     "name": "stdout",
     "output_type": "stream",
     "text": [
      "\n",
      " The cumulative frequency of the data-n CumfreqResult(cumcount=array([ 5., 16., 20., 20., 22., 22., 26., 27., 29., 30.]), lowerlimit=-3.833333333333333, binsize=9.666666666666666, extrapoints=0)\n"
     ]
    }
   ],
   "source": [
    "print('\\n The cumulative frequency of the data-n',stats.cumfreq(data))"
   ]
  },
  {
   "cell_type": "code",
   "execution_count": 61,
   "id": "e3fa80cd-8ada-488e-85a3-5e54a00e25eb",
   "metadata": {},
   "outputs": [
    {
     "name": "stdout",
     "output_type": "stream",
     "text": [
      "\n",
      " The Geomentric mean of the data-n 15.260661495888634\n"
     ]
    }
   ],
   "source": [
    "print('\\n The Geomentric mean of the data-n',stats.gmean(data))"
   ]
  },
  {
   "cell_type": "code",
   "execution_count": 62,
   "id": "19eea144-0e01-4494-b471-0a79032e045d",
   "metadata": {},
   "outputs": [
    {
     "name": "stdout",
     "output_type": "stream",
     "text": [
      "\n",
      " The Harmonic mean of the data-n 7.690170827943984\n"
     ]
    }
   ],
   "source": [
    "print('\\n The Harmonic mean of the data-n',stats.hmean(data))"
   ]
  },
  {
   "cell_type": "code",
   "execution_count": 63,
   "id": "f4215905-fc89-4e51-b755-d7a0c676f3fc",
   "metadata": {},
   "outputs": [
    {
     "name": "stdout",
     "output_type": "stream",
     "text": [
      "\n",
      " The IQR of the data-nth,stats.zscore(data)\n"
     ]
    }
   ],
   "source": [
    "print('\\n The IQR of the data-nth,stats.zscore(data)')"
   ]
  },
  {
   "cell_type": "code",
   "execution_count": 64,
   "id": "0d0644b0-07a9-4c09-ab08-dcd17e4f640d",
   "metadata": {},
   "outputs": [
    {
     "name": "stdout",
     "output_type": "stream",
     "text": [
      "\n",
      " The skewness of the data-n 0.9591014772240082\n"
     ]
    }
   ],
   "source": [
    "print(\"\\n The skewness of the data-n\", stats.skew(data))"
   ]
  },
  {
   "cell_type": "code",
   "execution_count": 65,
   "id": "56a27d63-f559-4899-abfb-6a0c6798fed6",
   "metadata": {},
   "outputs": [
    {
     "name": "stdout",
     "output_type": "stream",
     "text": [
      "\n",
      " The Kurtosos of the data-n -0.5039593211083249\n"
     ]
    }
   ],
   "source": [
    "print(\"\\n The Kurtosos of the data-n\",stats.kurtosis(data))"
   ]
  },
  {
   "cell_type": "code",
   "execution_count": null,
   "id": "900a0d84-71a0-48e5-a150-d240fd220c21",
   "metadata": {},
   "outputs": [],
   "source": [
    "data=[1,2,3,4,]"
   ]
  }
 ],
 "metadata": {
  "kernelspec": {
   "display_name": "Python 3 (ipykernel)",
   "language": "python",
   "name": "python3"
  },
  "language_info": {
   "codemirror_mode": {
    "name": "ipython",
    "version": 3
   },
   "file_extension": ".py",
   "mimetype": "text/x-python",
   "name": "python",
   "nbconvert_exporter": "python",
   "pygments_lexer": "ipython3",
   "version": "3.10.12"
  }
 },
 "nbformat": 4,
 "nbformat_minor": 5
}
